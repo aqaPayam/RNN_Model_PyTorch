{
  "cells": [
    {
      "cell_type": "markdown",
      "metadata": {
        "id": "I44zC-xvHlMA"
      },
      "source": [
        "# Initializatoin"
      ]
    },
    {
      "cell_type": "markdown",
      "source": [
        "Payam Taebi\n",
        "400104867"
      ],
      "metadata": {
        "id": "kBQgoFKhbu2e"
      }
    },
    {
      "cell_type": "markdown",
      "metadata": {
        "id": "97npt38AHmeG"
      },
      "source": [
        "## Imports"
      ]
    },
    {
      "cell_type": "code",
      "execution_count": 1,
      "metadata": {
        "id": "6GV6VNwvHfAu"
      },
      "outputs": [],
      "source": [
        "import math\n",
        "import matplotlib.pyplot as plt\n",
        "import matplotlib.ticker as ticker\n",
        "import numpy as np\n",
        "import torch\n",
        "import torch.nn as nn\n",
        "import torch.nn.functional as F\n",
        "import torchvision.datasets as datasets\n",
        "import torchvision.transforms as transforms\n",
        "\n",
        "from torch.autograd import Variable\n",
        "from torch.nn import Parameter\n",
        "\n",
        "from name_dataset import Dataset"
      ]
    },
    {
      "cell_type": "markdown",
      "metadata": {
        "id": "LkG3yH-pHpM9"
      },
      "source": [
        "# RNN"
      ]
    },
    {
      "cell_type": "markdown",
      "metadata": {
        "id": "iZ0KcfjJISHg"
      },
      "source": [
        "## Traditional RNN"
      ]
    },
    {
      "cell_type": "markdown",
      "metadata": {
        "id": "Kg5D637YdXA3"
      },
      "source": [
        "In the introductory section, we delve into the architecture of Recurrent Neural Networks (RNNs) and elucidate their training methodologies. To gain a deeper understanding of RNNs, you're encouraged to explore further [HERE](https://stanford.edu/~shervine/teaching/cs-230/cheatsheet-recurrent-neural-network)\n",
        "\n",
        "For the task at hand, you've been furnished with the Names dataset, a compilation comprising thousands of surnames from 18 distinct languages of origin. Your objective is to prognosticate the language of origin for a given name, relying solely on its orthography. Your task primarily involves implementing the section demarcated by `#your_code`."
      ]
    },
    {
      "cell_type": "code",
      "execution_count": 2,
      "metadata": {
        "colab": {
          "base_uri": "https://localhost:8080/"
        },
        "id": "HSphx1YaaNl0",
        "outputId": "e4af6753-d53a-4590-9ac4-a2f38112d777"
      },
      "outputs": [
        {
          "output_type": "stream",
          "name": "stdout",
          "text": [
            "Error occurred while downloading data.zip: --2024-04-29 15:17:19--  https://download.pytorch.org/tutorial/data.zip\n",
            "Resolving download.pytorch.org (download.pytorch.org)... 18.65.3.37, 18.65.3.71, 18.65.3.38, ...\n",
            "Connecting to download.pytorch.org (download.pytorch.org)|18.65.3.37|:443... connected.\n",
            "HTTP request sent, awaiting response... 200 OK\n",
            "Length: 2882130 (2.7M) [application/zip]\n",
            "Saving to: ‘data.zip’\n",
            "\n",
            "     0K .......... .......... .......... .......... ..........  1% 6.01M 0s\n",
            "    50K .......... .......... .......... .......... ..........  3% 7.45M 0s\n",
            "   100K .......... .......... .......... .......... ..........  5% 18.3M 0s\n",
            "   150K .......... .......... .......... .......... ..........  7% 19.3M 0s\n",
            "   200K .......... .......... .......... .......... ..........  8% 17.3M 0s\n",
            "   250K .......... .......... .......... .......... .......... 10% 22.6M 0s\n",
            "   300K .......... .......... .......... .......... .......... 12% 32.7M 0s\n",
            "   350K .......... .......... .......... .......... .......... 14% 40.5M 0s\n",
            "   400K .......... .......... .......... .......... .......... 15% 26.1M 0s\n",
            "   450K .......... .......... .......... .......... .......... 17% 34.3M 0s\n",
            "   500K .......... .......... .......... .......... .......... 19% 57.5M 0s\n",
            "   550K .......... .......... .......... .......... .......... 21% 50.8M 0s\n",
            "   600K .......... .......... .......... .......... .......... 23% 50.8M 0s\n",
            "   650K .......... .......... .......... .......... .......... 24% 52.4M 0s\n",
            "   700K .......... .......... .......... .......... .......... 26% 53.5M 0s\n",
            "   750K .......... .......... .......... .......... .......... 28% 53.1M 0s\n",
            "   800K .......... .......... .......... .......... .......... 30% 49.7M 0s\n",
            "   850K .......... .......... .......... .......... .......... 31% 48.1M 0s\n",
            "   900K .......... .......... .......... .......... .......... 33% 54.6M 0s\n",
            "   950K .......... .......... .......... .......... .......... 35% 51.8M 0s\n",
            "  1000K .......... .......... .......... .......... .......... 37% 43.7M 0s\n",
            "  1050K .......... .......... .......... .......... .......... 39% 40.8M 0s\n",
            "  1100K .......... .......... .......... .......... .......... 40% 55.2M 0s\n",
            "  1150K .......... .......... .......... .......... .......... 42% 54.1M 0s\n",
            "  1200K .......... .......... .......... .......... .......... 44% 47.0M 0s\n",
            "  1250K .......... .......... .......... .......... .......... 46% 42.4M 0s\n",
            "  1300K .......... .......... .......... .......... .......... 47% 45.6M 0s\n",
            "  1350K .......... .......... .......... .......... .......... 49% 42.5M 0s\n",
            "  1400K .......... .......... .......... .......... .......... 51% 49.0M 0s\n",
            "  1450K .......... .......... .......... .......... .......... 53% 58.0M 0s\n",
            "  1500K .......... .......... .......... .......... .......... 55% 62.0M 0s\n",
            "  1550K .......... .......... .......... .......... .......... 56% 57.4M 0s\n",
            "  1600K .......... .......... .......... .......... .......... 58% 55.1M 0s\n",
            "  1650K .......... .......... .......... .......... .......... 60% 59.2M 0s\n",
            "  1700K .......... .......... .......... .......... .......... 62% 61.0M 0s\n",
            "  1750K .......... .......... .......... .......... .......... 63% 56.3M 0s\n",
            "  1800K .......... .......... .......... .......... .......... 65% 61.7M 0s\n",
            "  1850K .......... .......... .......... .......... .......... 67% 64.0M 0s\n",
            "  1900K .......... .......... .......... .......... .......... 69%  260M 0s\n",
            "  1950K .......... .......... .......... .......... .......... 71%  273M 0s\n",
            "  2000K .......... .......... .......... .......... .......... 72%  260M 0s\n",
            "  2050K .......... .......... .......... .......... .......... 74%  253M 0s\n",
            "  2100K .......... .......... .......... .......... .......... 76%  249M 0s\n",
            "  2150K .......... .......... .......... .......... .......... 78%  266M 0s\n",
            "  2200K .......... .......... .......... .......... .......... 79%  266M 0s\n",
            "  2250K .......... .......... .......... .......... .......... 81%  265M 0s\n",
            "  2300K .......... .......... .......... .......... .......... 83%  254M 0s\n",
            "  2350K .......... .......... .......... .......... .......... 85%  246M 0s\n",
            "  2400K .......... .......... .......... .......... .......... 87%  274M 0s\n",
            "  2450K .......... .......... .......... .......... .......... 88%  280M 0s\n",
            "  2500K .......... .......... .......... .......... .......... 90%  257M 0s\n",
            "  2550K .......... .......... .......... .......... .......... 92%  274M 0s\n",
            "  2600K .......... .......... .......... .......... .......... 94%  249M 0s\n",
            "  2650K .......... .......... .......... .......... .......... 95%  238M 0s\n",
            "  2700K .......... .......... .......... .......... .......... 97%  265M 0s\n",
            "  2750K .......... .......... .......... .......... .......... 99%  241M 0s\n",
            "  2800K .......... ....                                       100%  187M=0.06s\n",
            "\n",
            "2024-04-29 15:17:19 (45.3 MB/s) - ‘data.zip’ saved [2882130/2882130]\n",
            "\n",
            "\n",
            "Unzipped data.zip successfully.\n",
            "category = Portuguese - random name = Gaspar\n",
            "category = English - random name = Ireson\n",
            "category = Chinese - random name = Lew\n",
            "category = Chinese - random name = Yun\n",
            "category = Vietnamese - random name = Nghiem\n",
            "category = Chinese - random name = Rang\n",
            "category = English - random name = Parsons\n",
            "category = German - random name = Solberg\n",
            "category = English - random name = Mcarthur\n",
            "category = Italian - random name = Agnellutti\n"
          ]
        }
      ],
      "source": [
        "dataset = Dataset()\n",
        "for i in range(10):\n",
        "    category, line, _, _ = dataset.randomTrainingExample()\n",
        "    print('category =', category, '- random name =', line)"
      ]
    },
    {
      "cell_type": "code",
      "execution_count": 3,
      "metadata": {
        "id": "9Wusl6Uta5CY"
      },
      "outputs": [],
      "source": [
        "class RNN(nn.Module):\n",
        "    def __init__(self, input_size, hidden_size, output_size):\n",
        "        super(RNN, self).__init__()\n",
        "        self.hidden_size = hidden_size\n",
        "        self.i2h = nn.Linear(input_size + hidden_size, hidden_size)\n",
        "        self.i2o = nn.Linear(input_size + hidden_size, output_size)\n",
        "        self.softmax = nn.LogSoftmax(dim=1)\n",
        "\n",
        "    def forward(self, input, hidden):\n",
        "        combined = torch.cat((input, hidden), 1)\n",
        "        hidden = torch.tanh(self.i2h(combined))\n",
        "        output = self.i2o(combined)\n",
        "        output = self.softmax(output)\n",
        "        return output, hidden\n",
        "\n",
        "    def initHidden(self):\n",
        "        return torch.zeros(1, self.hidden_size)\n",
        "\n",
        "n_hidden = 128\n",
        "n_letters = dataset.n_letters\n",
        "n_categories = dataset.n_categories\n",
        "#print(n_letters,n_categories) # 57 18\n",
        "rnn = RNN(n_letters, n_hidden, n_categories)"
      ]
    },
    {
      "cell_type": "code",
      "execution_count": 4,
      "metadata": {
        "id": "xlvoUSDFY-r7"
      },
      "outputs": [],
      "source": [
        "criterion = nn.CrossEntropyLoss()\n",
        "learning_rate = 0.005\n",
        "\n",
        "def train(category_tensor, name_tensor):\n",
        "    hidden = rnn.initHidden()\n",
        "    rnn.zero_grad()\n",
        "\n",
        "    for i in range(name_tensor.size(0)):\n",
        "      output, hidden = rnn(name_tensor[i], hidden)\n",
        "\n",
        "    loss = criterion(output, category_tensor)\n",
        "\n",
        "    loss.backward()\n",
        "\n",
        "    # Update parameters\n",
        "    for p in rnn.parameters():\n",
        "        p.data.add_(p.grad.data, alpha=-learning_rate)\n",
        "\n",
        "    return output, loss.item()\n"
      ]
    },
    {
      "cell_type": "markdown",
      "metadata": {
        "id": "n6A3nYNgoVfZ"
      },
      "source": [
        "And here you can train your model and see it's performance after each 5000 iterations"
      ]
    },
    {
      "cell_type": "code",
      "execution_count": 5,
      "metadata": {
        "colab": {
          "base_uri": "https://localhost:8080/",
          "height": 795
        },
        "id": "BIaxje6AsqKM",
        "outputId": "0c6226e3-7128-4140-a219-f52fb9938588"
      },
      "outputs": [
        {
          "output_type": "stream",
          "name": "stdout",
          "text": [
            "25000 5% 3.0940 Mata is predicted as a \"Japanese\" name, status = ✗ (Portuguese)\n",
            "50000 10% 0.7564 Shen is predicted as a \"Chinese\" name, status = ✓\n",
            "75000 15% 0.0271 Brisimitzakis is predicted as a \"Greek\" name, status = ✓\n",
            "100000 20% 0.5146 Fearghal is predicted as a \"Irish\" name, status = ✓\n",
            "125000 25% 0.6337 Ryu is predicted as a \"Korean\" name, status = ✓\n",
            "150000 30% 1.2407 Metz is predicted as a \"German\" name, status = ✓\n",
            "175000 35% 1.2640 Hierro is predicted as a \"Spanish\" name, status = ✓\n",
            "200000 40% 0.0923 Poplawski is predicted as a \"Polish\" name, status = ✓\n",
            "225000 45% 0.0380 Kwak is predicted as a \"Korean\" name, status = ✓\n",
            "250000 50% 0.0133 Kwong is predicted as a \"Chinese\" name, status = ✓\n",
            "275000 55% 0.5296 Lebeau is predicted as a \"French\" name, status = ✓\n",
            "300000 60% 1.5895 Simon is predicted as a \"Dutch\" name, status = ✗ (French)\n",
            "325000 65% 0.0081 Gniewek is predicted as a \"Polish\" name, status = ✓\n",
            "350000 70% 0.0120 Solomon is predicted as a \"French\" name, status = ✓\n",
            "375000 75% 0.3895 Agthoven is predicted as a \"Dutch\" name, status = ✓\n",
            "400000 80% 0.6253 Abraham is predicted as a \"French\" name, status = ✓\n",
            "425000 85% 0.0286 Aonghuis is predicted as a \"Irish\" name, status = ✓\n",
            "450000 90% 0.0250 Pinheiro is predicted as a \"Portuguese\" name, status = ✓\n",
            "475000 95% 0.0022 Riagan is predicted as a \"Irish\" name, status = ✓\n",
            "500000 100% 0.3555 Doan is predicted as a \"Vietnamese\" name, status = ✓\n"
          ]
        },
        {
          "output_type": "execute_result",
          "data": {
            "text/plain": [
              "[<matplotlib.lines.Line2D at 0x7a222f318700>]"
            ]
          },
          "metadata": {},
          "execution_count": 5
        },
        {
          "output_type": "display_data",
          "data": {
            "text/plain": [
              "<Figure size 640x480 with 1 Axes>"
            ],
            "image/png": "[encoded data removed]"
          },
          "metadata": {}
        }
      ],
      "source": [
        "n_iters = 500000\n",
        "print_every = 25000\n",
        "\n",
        "current_loss = 0\n",
        "all_losses = []\n",
        "\n",
        "for iter in range(1, n_iters + 1):\n",
        "    category, line, category_tensor, line_tensor = dataset.randomTrainingExample()\n",
        "    #print(category_tensor.shape)\n",
        "    #print(line_tensor.shape)\n",
        "    output, loss = train(category_tensor, line_tensor)\n",
        "    current_loss += loss\n",
        "\n",
        "    if iter % print_every == 0:\n",
        "        guess, _ = dataset.categoryFromOutput(output)\n",
        "        correct = '✓' if guess == category else '✗ (%s)' % category\n",
        "        print('%d %d%% %.4f %s is predicted as a \"%s\" name, status = %s' % (iter, iter / n_iters * 100, loss, line, guess, correct))\n",
        "\n",
        "    if iter % 1000 == 0:\n",
        "        all_losses.append(current_loss / 1000)\n",
        "        current_loss = 0\n",
        "\n",
        "plt.figure()\n",
        "plt.plot(all_losses)"
      ]
    },
    {
      "cell_type": "markdown",
      "metadata": {
        "id": "N3DfTyhGIF2P"
      },
      "source": [
        "## Traditional RNN Disadvantages"
      ]
    },
    {
      "cell_type": "markdown",
      "metadata": {
        "id": "RSBnM7WbNv_T"
      },
      "source": [
        "In this part, we aim to delve into the limitations of traditional RNNs:\n",
        "1.   Recurrent computation is slow\n",
        "2.   They have difficulty accessing information from many steps back.\n",
        "\n",
        "You are provided with a simple code that helps you to give the idea better. By modifying this code, you are able to demonstrate the mentioned disadvantages, but you are also free to change the code if needed or use any dataset you want.\n",
        "\n",
        "**Question:** Do you think using GPU instead of CPU completely solves the first problem?\n",
        "\n",
        "No, using a GPU instead of a CPU does not completely solve the problem of slow recurrent computation in RNNs. While GPUs are highly efficient at parallel computation and can speed up certain operations, RNNs inherently involve sequential dependencies. This means that each timestep in the sequence must be processed sequentially, which limits the degree to which RNN computations can be parallelized.\n",
        "\n",
        "While GPUs can accelerate certain aspects of RNN training and inference, they cannot completely overcome the sequential nature of RNN computations. Factors such as the size of the network, the complexity of the computation, and the efficiency of the implementation also play significant roles in determining the overall speed and performance of RNNs.\n",
        "\n",
        "\n",
        "Note: The main goal of this part is to help you understand these problems better. Don't be too hard to implement and delivery."
      ]
    },
    {
      "cell_type": "code",
      "execution_count": 6,
      "metadata": {
        "colab": {
          "base_uri": "https://localhost:8080/",
          "height": 604
        },
        "id": "Gmv3e7fpQiRD",
        "outputId": "e62753a8-6693-44e4-846f-61f55b068fab"
      },
      "outputs": [
        {
          "output_type": "stream",
          "name": "stdout",
          "text": [
            "Epoch [10/100], Loss: 1.3337\n",
            "Epoch [20/100], Loss: 1.2591\n",
            "Epoch [30/100], Loss: 1.1824\n",
            "Epoch [40/100], Loss: 1.0971\n",
            "Epoch [50/100], Loss: 0.9962\n",
            "Epoch [60/100], Loss: 0.8731\n",
            "Epoch [70/100], Loss: 0.7244\n",
            "Epoch [80/100], Loss: 0.5555\n",
            "Epoch [90/100], Loss: 0.3867\n",
            "Epoch [100/100], Loss: 0.2459\n"
          ]
        },
        {
          "output_type": "display_data",
          "data": {
            "text/plain": [
              "<Figure size 640x480 with 1 Axes>"
            ],
            "image/png": "[encoded data removed]"
          },
          "metadata": {}
        }
      ],
      "source": [
        "import torch\n",
        "import torch.nn as nn\n",
        "import numpy as np\n",
        "import matplotlib.pyplot as plt\n",
        "\n",
        "# Generate sinusoidal temperature data with decreasing range over time\n",
        "np.random.seed(0)\n",
        "num_periods = 50\n",
        "timesteps_per_period = 10\n",
        "total_timesteps = num_periods * timesteps_per_period\n",
        "\n",
        "# Generate decreasing factor\n",
        "decreasing_factor = np.linspace(1, 0.1, total_timesteps)\n",
        "\n",
        "# Generate temperature data with decreasing sinusoidal range\n",
        "temperature_data = np.sin(np.linspace(0, 2*np.pi*num_periods, total_timesteps)) * decreasing_factor\n",
        "\n",
        "# Normalize the data\n",
        "temperature_data = (temperature_data - np.mean(temperature_data)) / np.std(temperature_data)\n",
        "\n",
        "# Convert numpy array to PyTorch tensor\n",
        "temperature_data = torch.tensor(temperature_data, dtype=torch.float32).view(-1, 1)\n",
        "\n",
        "# Define function to create dataset with sinusoidal pattern\n",
        "def create_dataset(data, seq_length):\n",
        "    X, Y = [], []\n",
        "    for i in range(len(data) - seq_length):\n",
        "        seq_in = data[i:i+seq_length]\n",
        "        seq_out = data[i+seq_length]\n",
        "        X.append(seq_in)\n",
        "        Y.append(seq_out)\n",
        "    return torch.stack(X), torch.stack(Y)\n",
        "\n",
        "# Define sequence length and create dataset\n",
        "sequence_length = 10  # Number of previous days to look at for prediction\n",
        "X, Y = create_dataset(temperature_data, sequence_length)\n",
        "\n",
        "# Split the dataset into train and test sets\n",
        "train_size = int(0.8 * len(X))\n",
        "test_size = len(X) - train_size\n",
        "X_train, X_test = X[:train_size], X[train_size:]\n",
        "Y_train, Y_test = Y[:train_size], Y[train_size:]\n",
        "\n",
        "# Define RNN model\n",
        "class SimpleRNN(nn.Module):\n",
        "    def __init__(self, input_size, hidden_size, output_size):\n",
        "        super(SimpleRNN, self).__init__()\n",
        "        self.rnn = nn.RNN(input_size, hidden_size, batch_first=True)\n",
        "        self.fc = nn.Linear(hidden_size, output_size)\n",
        "\n",
        "    def forward(self, x):\n",
        "        out, _ = self.rnn(x)\n",
        "        out = self.fc(out[:, -1, :])\n",
        "        return out\n",
        "\n",
        "# Define model parameters\n",
        "input_size = 1\n",
        "hidden_size = 10\n",
        "output_size = 1\n",
        "\n",
        "# Instantiate the model\n",
        "model = SimpleRNN(input_size, hidden_size, output_size)\n",
        "\n",
        "# Define loss function and optimizer\n",
        "criterion = nn.MSELoss()\n",
        "optimizer = torch.optim.Adam(model.parameters(), lr=0.001)\n",
        "\n",
        "# Train the model\n",
        "num_epochs = 100\n",
        "for epoch in range(num_epochs):\n",
        "    model.train()\n",
        "    outputs = model(X_train)\n",
        "    loss = criterion(outputs, Y_train)\n",
        "    optimizer.zero_grad()\n",
        "    loss.backward()\n",
        "    optimizer.step()\n",
        "\n",
        "    if (epoch+1) % 10 == 0:\n",
        "        print(f'Epoch [{epoch+1}/{num_epochs}], Loss: {loss.item():.4f}')\n",
        "\n",
        "# Evaluate the model\n",
        "model.eval()\n",
        "with torch.no_grad():\n",
        "    test_predictions = model(X_test)\n",
        "\n",
        "# Plot actual vs predicted\n",
        "plt.plot(Y_test.numpy(), label='Actual')\n",
        "plt.plot(test_predictions.numpy(), label='Predicted')\n",
        "plt.legend()\n",
        "plt.show()"
      ]
    },
    {
      "cell_type": "markdown",
      "metadata": {
        "id": "eOzchEUJ0k2E"
      },
      "source": [
        "# LSTM Preparation"
      ]
    },
    {
      "cell_type": "markdown",
      "metadata": {
        "id": "1BlfuzGF6jDM"
      },
      "source": [
        "Now that you have experience with traditional RNNs, it's time to implement the LSTM model. Your goal is to implement the cell and model for LSTM architecture. The proposed dataset for this section is MNIST, allowing you to focus solely on model implementation."
      ]
    },
    {
      "cell_type": "code",
      "execution_count": 7,
      "metadata": {
        "colab": {
          "base_uri": "https://localhost:8080/"
        },
        "id": "FB_MpK06uB9G",
        "outputId": "2c7229e0-fc27-41aa-8959-15f218b45b20"
      },
      "outputs": [
        {
          "output_type": "stream",
          "name": "stdout",
          "text": [
            "Downloading http://yann.lecun.com/exdb/mnist/train-images-idx3-ubyte.gz\n",
            "Downloading http://yann.lecun.com/exdb/mnist/train-images-idx3-ubyte.gz to ./data/MNIST/raw/train-images-idx3-ubyte.gz\n",
            "Failed to download (trying next):\n",
            "HTTP Error 503: Service Unavailable\n",
            "\n",
            "Downloading https://ossci-datasets.s3.amazonaws.com/mnist/train-images-idx3-ubyte.gz\n",
            "Downloading https://ossci-datasets.s3.amazonaws.com/mnist/train-images-idx3-ubyte.gz to ./data/MNIST/raw/train-images-idx3-ubyte.gz\n"
          ]
        },
        {
          "output_type": "stream",
          "name": "stderr",
          "text": [
            "100%|██████████| 9912422/9912422 [00:00<00:00, 18033586.03it/s]\n"
          ]
        },
        {
          "output_type": "stream",
          "name": "stdout",
          "text": [
            "Extracting ./data/MNIST/raw/train-images-idx3-ubyte.gz to ./data/MNIST/raw\n",
            "\n",
            "Downloading http://yann.lecun.com/exdb/mnist/train-labels-idx1-ubyte.gz\n",
            "Downloading http://yann.lecun.com/exdb/mnist/train-labels-idx1-ubyte.gz to ./data/MNIST/raw/train-labels-idx1-ubyte.gz\n"
          ]
        },
        {
          "output_type": "stream",
          "name": "stderr",
          "text": [
            "100%|██████████| 28881/28881 [00:00<00:00, 411060.04it/s]\n"
          ]
        },
        {
          "output_type": "stream",
          "name": "stdout",
          "text": [
            "Extracting ./data/MNIST/raw/train-labels-idx1-ubyte.gz to ./data/MNIST/raw\n",
            "\n",
            "Downloading http://yann.lecun.com/exdb/mnist/t10k-images-idx3-ubyte.gz\n",
            "Failed to download (trying next):\n",
            "HTTP Error 503: Service Unavailable\n",
            "\n",
            "Downloading https://ossci-datasets.s3.amazonaws.com/mnist/t10k-images-idx3-ubyte.gz\n",
            "Downloading https://ossci-datasets.s3.amazonaws.com/mnist/t10k-images-idx3-ubyte.gz to ./data/MNIST/raw/t10k-images-idx3-ubyte.gz\n"
          ]
        },
        {
          "output_type": "stream",
          "name": "stderr",
          "text": [
            "100%|██████████| 1648877/1648877 [00:00<00:00, 4499987.57it/s]\n"
          ]
        },
        {
          "output_type": "stream",
          "name": "stdout",
          "text": [
            "Extracting ./data/MNIST/raw/t10k-images-idx3-ubyte.gz to ./data/MNIST/raw\n",
            "\n",
            "Downloading http://yann.lecun.com/exdb/mnist/t10k-labels-idx1-ubyte.gz\n",
            "Failed to download (trying next):\n",
            "HTTP Error 503: Service Unavailable\n",
            "\n",
            "Downloading https://ossci-datasets.s3.amazonaws.com/mnist/t10k-labels-idx1-ubyte.gz\n",
            "Downloading https://ossci-datasets.s3.amazonaws.com/mnist/t10k-labels-idx1-ubyte.gz to ./data/MNIST/raw/t10k-labels-idx1-ubyte.gz\n"
          ]
        },
        {
          "output_type": "stream",
          "name": "stderr",
          "text": [
            "100%|██████████| 4542/4542 [00:00<00:00, 4252350.17it/s]"
          ]
        },
        {
          "output_type": "stream",
          "name": "stdout",
          "text": [
            "Extracting ./data/MNIST/raw/t10k-labels-idx1-ubyte.gz to ./data/MNIST/raw\n",
            "\n"
          ]
        },
        {
          "output_type": "stream",
          "name": "stderr",
          "text": [
            "\n"
          ]
        }
      ],
      "source": [
        "train_dataset = datasets.MNIST(root='./data',\n",
        "                               train=True,\n",
        "                               transform=transforms.ToTensor(),\n",
        "                               download=True)\n",
        "\n",
        "test_dataset = datasets.MNIST(root='./data',\n",
        "                              train=False,\n",
        "                              transform=transforms.ToTensor())\n",
        "\n",
        "batch_size = 128\n",
        "n_iters = 6000\n",
        "num_epochs = int(n_iters / (len(train_dataset) / batch_size))"
      ]
    },
    {
      "cell_type": "code",
      "execution_count": 8,
      "metadata": {
        "id": "oen0qO_nuLks"
      },
      "outputs": [],
      "source": [
        "train_loader = torch.utils.data.DataLoader(dataset=train_dataset,\n",
        "                                           batch_size=batch_size,\n",
        "                                           shuffle=True)\n",
        "\n",
        "test_loader = torch.utils.data.DataLoader(dataset=test_dataset,\n",
        "                                          batch_size=batch_size,\n",
        "                                          shuffle=False)"
      ]
    },
    {
      "cell_type": "markdown",
      "metadata": {
        "id": "9033G0tvJnjk"
      },
      "source": [
        "## LSTM Cells"
      ]
    },
    {
      "cell_type": "code",
      "execution_count": 9,
      "metadata": {
        "id": "5Lp0K-CCxgPn"
      },
      "outputs": [],
      "source": [
        "class LSTMCell(nn.Module):\n",
        "    def __init__(self, input_size, hidden_size, bias=True):\n",
        "        super(LSTMCell, self).__init__()\n",
        "        self.input_size = input_size\n",
        "        self.hidden_size = hidden_size\n",
        "        self.bias = bias\n",
        "\n",
        "        self.xh = nn.Linear(input_size, hidden_size * 4, bias=bias)\n",
        "        self.hh = nn.Linear(hidden_size, hidden_size * 4, bias=bias)\n",
        "        self.reset_parameters()\n",
        "\n",
        "    def reset_parameters(self):\n",
        "        std = 1.0 / torch.sqrt(torch.tensor(self.hidden_size, dtype=torch.float))\n",
        "        for w in self.parameters():\n",
        "            w.data.uniform_(-std, std)\n",
        "\n",
        "    def forward(self, input, hx=None):\n",
        "        if hx is None:\n",
        "            hx = input.new_zeros(input.size(0), self.hidden_size)\n",
        "            hx = (hx, hx)\n",
        "\n",
        "        hx, cx = hx\n",
        "\n",
        "        gates = self.xh(input) + self.hh(hx)\n",
        "        input_gate, forget_gate, cell_gate, output_gate = gates.chunk(4, 1)\n",
        "\n",
        "        input_gate = torch.sigmoid(input_gate)\n",
        "        forget_gate = torch.sigmoid(forget_gate)\n",
        "        cell_gate = torch.tanh(cell_gate)\n",
        "        output_gate = torch.sigmoid(output_gate)\n",
        "\n",
        "        cy = forget_gate * cx + input_gate * cell_gate\n",
        "        hy = output_gate * torch.tanh(cy)\n",
        "\n",
        "        return hy, cy\n"
      ]
    },
    {
      "cell_type": "markdown",
      "metadata": {
        "id": "iTxgK6zgKgYs"
      },
      "source": [
        "## LSTM Models"
      ]
    },
    {
      "cell_type": "code",
      "execution_count": 10,
      "metadata": {
        "id": "g75EeAJauUzn"
      },
      "outputs": [],
      "source": [
        "class LSTMModel(nn.Module):\n",
        "    def __init__(self, input_dim, hidden_dim, layer_dim, output_dim):\n",
        "        super(LSTMModel, self).__init__()\n",
        "\n",
        "        self.hidden_dim = hidden_dim\n",
        "        self.layer_dim = layer_dim\n",
        "        self.lstm = LSTMCell(input_dim, hidden_dim)\n",
        "        self.fc = nn.Linear(hidden_dim, output_dim)\n",
        "\n",
        "    def forward(self, x):\n",
        "\n",
        "        h0 = torch.zeros(x.size(0), self.hidden_dim)\n",
        "        c0 = torch.zeros(x.size(0), self.hidden_dim)\n",
        "\n",
        "        # Initialize\n",
        "        hn = h0\n",
        "        cn = c0\n",
        "\n",
        "        outs = []\n",
        "\n",
        "        for seq in range(x.size(1)):\n",
        "            hn, cn = self.lstm(x[:, seq, :], (hn, cn))\n",
        "            outs.append(hn.unsqueeze(1))\n",
        "\n",
        "        out = torch.cat(outs, dim=1)\n",
        "\n",
        "\n",
        "        out = self.fc(out[:, -1, :])\n",
        "\n",
        "        return out\n"
      ]
    },
    {
      "cell_type": "code",
      "execution_count": 11,
      "metadata": {
        "id": "QMOEeZZiuWxS"
      },
      "outputs": [],
      "source": [
        "input_dim = 28\n",
        "hidden_dim = 128\n",
        "layer_dim = 1  # ONLY 1 OR 2\n",
        "output_dim = 10\n",
        "\n",
        "model = LSTMModel(input_dim, hidden_dim, layer_dim, output_dim)\n",
        "\n",
        "\n",
        "learning_rate = 0.01\n",
        "\n",
        "criterion = nn.CrossEntropyLoss()\n",
        "\n",
        "optimizer = torch.optim.Adam(model.parameters(), lr=learning_rate)"
      ]
    },
    {
      "cell_type": "code",
      "execution_count": 12,
      "metadata": {
        "colab": {
          "base_uri": "https://localhost:8080/"
        },
        "id": "JIENTkLStZT1",
        "outputId": "d793411b-326a-43b5-a3f9-662866a8360b"
      },
      "outputs": [
        {
          "output_type": "stream",
          "name": "stdout",
          "text": [
            "Accuracy on Test Dataset after Epoch 1: 95.88%\n",
            "Epoch [2/5], Iteration [30/469], Loss: 0.3672, Accuracy: 95.98%\n",
            "Accuracy on Test Dataset after Epoch 2: 97.52%\n",
            "Epoch [3/5], Iteration [61/469], Loss: 0.0962, Accuracy: 97.74%\n",
            "Accuracy on Test Dataset after Epoch 3: 98.23%\n",
            "Epoch [4/5], Iteration [92/469], Loss: 0.0706, Accuracy: 98.53%\n",
            "Accuracy on Test Dataset after Epoch 4: 98.45%\n",
            "Epoch [5/5], Iteration [123/469], Loss: 0.0576, Accuracy: 98.49%\n",
            "Accuracy on Test Dataset after Epoch 5: 98.03%\n"
          ]
        }
      ],
      "source": [
        "num_epochs = 5\n",
        "print_interval = 500\n",
        "\n",
        "running_loss = 0.0\n",
        "total = 0\n",
        "correct = 0\n",
        "\n",
        "q = 0\n",
        "for epoch in range(num_epochs):\n",
        "    model.train()\n",
        "\n",
        "    for i, (images, labels) in enumerate(train_loader, 0):\n",
        "        q+=1\n",
        "        optimizer.zero_grad()\n",
        "        images = images.view(-1, 28, 28)  # Reshape to (batch_size, 28, 28)\n",
        "        outputs = model(images)\n",
        "        loss = criterion(outputs, labels)\n",
        "        loss.backward()\n",
        "        optimizer.step()\n",
        "        running_loss += loss.item()\n",
        "        _, predicted = torch.max(outputs.data, 1)\n",
        "        total += labels.size(0)\n",
        "        correct += (predicted == labels).sum().item()\n",
        "        if (q+1) % print_interval == 0:\n",
        "            print(f'Epoch [{epoch+1}/{num_epochs}], Iteration [{i+1}/{len(train_loader)}], Loss: {running_loss/print_interval:.4f}, Accuracy: {(correct/total)*100:.2f}%')\n",
        "            running_loss = 0.0\n",
        "\n",
        "    model.eval()\n",
        "    correct = 0\n",
        "    total = 0\n",
        "    with torch.no_grad():\n",
        "        for images, labels in test_loader:\n",
        "            images = images.view(-1, 28, 28)  # Reshape to (batch_size, 28, 28)\n",
        "            outputs = model(images)\n",
        "            _, predicted = torch.max(outputs.data, 1)\n",
        "            total += labels.size(0)\n",
        "            correct += (predicted == labels).sum().item()\n",
        "\n",
        "    print(f'Accuracy on Test Dataset after Epoch {epoch+1}: {(correct/total)*100:.2f}%')\n"
      ]
    },
    {
      "cell_type": "markdown",
      "metadata": {
        "id": "yO8aLb1_NN65"
      },
      "source": [
        "# Sentiment Analysis"
      ]
    },
    {
      "cell_type": "markdown",
      "metadata": {
        "id": "2G_TeIlFNTeR"
      },
      "source": [
        "Now you are ready to face a real-world problem. In this task, we want you to do a sentiment analysis on the [IMDB dataset](https://www.kaggle.com/datasets/lakshmi25npathi/imdb-dataset-of-50k-movie-reviews). The main goal is to reach more than an acceptable accuracy of **75%** on LSTM model. You are free to use torch.nn.LSTM to design your architecture, but you must prepare the IMDB dataset on your own."
      ]
    },
    {
      "cell_type": "code",
      "execution_count": 13,
      "metadata": {
        "id": "wtsexP5yjVB9"
      },
      "outputs": [],
      "source": [
        "import torch\n",
        "import torch.nn as nn\n",
        "import torch.optim as optim\n",
        "from torch.utils.data import DataLoader, TensorDataset\n",
        "from sklearn.model_selection import train_test_split\n",
        "import pandas as pd\n",
        "import re\n",
        "from collections import Counter\n",
        "from torchsummary import summary"
      ]
    },
    {
      "cell_type": "code",
      "execution_count": 14,
      "metadata": {
        "colab": {
          "base_uri": "https://localhost:8080/"
        },
        "id": "WVVt5Na7kzSz",
        "outputId": "0f79eadf-4554-4667-dbb5-3ed54d416f8e"
      },
      "outputs": [
        {
          "output_type": "stream",
          "name": "stdout",
          "text": [
            "Archive:  /content/archive.zip\n",
            "replace IMDB Dataset.csv? [y]es, [n]o, [A]ll, [N]one, [r]ename: y\n",
            "  inflating: IMDB Dataset.csv        \n"
          ]
        }
      ],
      "source": [
        "!unzip /content/archive.zip"
      ]
    },
    {
      "cell_type": "code",
      "execution_count": 15,
      "metadata": {
        "id": "KeUpVkZynruI"
      },
      "outputs": [],
      "source": [
        "df = pd.read_csv('IMDB Dataset.csv')"
      ]
    },
    {
      "cell_type": "code",
      "execution_count": 16,
      "metadata": {
        "id": "F41u_c80nvhk"
      },
      "outputs": [],
      "source": [
        "def preprocess_text(text):\n",
        "    clean_text = re.compile('<.*?>')\n",
        "    text = re.sub(clean_text, '', text)\n",
        "    text = re.sub(r'[^a-zA-Z0-9\\s]', '', text).lower()\n",
        "    return text\n",
        "\n",
        "df['review'] = df['review'].apply(preprocess_text)\n",
        "\n",
        "# Tokenize\n",
        "all_words = ' '.join(df['review']).split()\n",
        "word_counts = Counter(all_words)\n",
        "sorted_word_counts = sorted(word_counts.items(), key=lambda x: x[1], reverse=True)\n",
        "\n",
        "word_to_idx = {word: i + 1 for i, (word, _) in enumerate(sorted_word_counts)}\n",
        "\n",
        "#  text 2 sequences\n",
        "X = []\n",
        "for review in df['review']:\n",
        "    seq = [word_to_idx[word] for word in review.split() if word in word_to_idx]\n",
        "    X.append(seq)\n",
        "\n",
        "# Padding\n",
        "max_seq_len = 200\n",
        "X_padded = [seq[:max_seq_len] + [0]*(max_seq_len - len(seq)) if len(seq) < max_seq_len else seq[:max_seq_len] for seq in X]\n",
        "\n",
        "y = df['sentiment'].map({'positive': 1, 'negative': 0}).values\n"
      ]
    },
    {
      "cell_type": "code",
      "source": [
        "X_train, X_test, y_train, y_test = train_test_split(X_padded, y, test_size=0.2, random_state=42)\n",
        "\n",
        "X_train_tensor = torch.tensor(X_train, dtype=torch.long)\n",
        "y_train_tensor = torch.tensor(y_train, dtype=torch.float32)\n",
        "X_test_tensor = torch.tensor(X_test, dtype=torch.long)\n",
        "y_test_tensor = torch.tensor(y_test, dtype=torch.float32)\n",
        "\n",
        "# Create DataLoader\n",
        "train_dataset = torch.utils.data.TensorDataset(X_train_tensor, y_train_tensor)\n",
        "test_dataset = torch.utils.data.TensorDataset(X_test_tensor, y_test_tensor)\n",
        "train_loader = torch.utils.data.DataLoader(train_dataset, batch_size=128, shuffle=True)\n",
        "test_loader = torch.utils.data.DataLoader(test_dataset, batch_size=128)"
      ],
      "metadata": {
        "id": "1VV9pJJ8swiu"
      },
      "execution_count": 17,
      "outputs": []
    },
    {
      "cell_type": "code",
      "source": [
        "class LSTMModel(nn.Module):\n",
        "    def __init__(self, input_size, embedding_dim, hidden_size, num_layers, output_size):\n",
        "        super(LSTMModel, self).__init__()\n",
        "        self.embedding = nn.Embedding(input_size, embedding_dim)\n",
        "        self.lstm = nn.LSTM(embedding_dim, hidden_size, num_layers, batch_first=True)\n",
        "        self.fc = nn.Linear(hidden_size, output_size)\n",
        "        self.sigmoid = nn.Sigmoid()\n",
        "\n",
        "    def forward(self, x):\n",
        "        embedded = self.embedding(x)\n",
        "        lstm_out, _ = self.lstm(embedded)\n",
        "        out = self.fc(lstm_out[:, -1, :])\n",
        "        out = self.sigmoid(out)\n",
        "        return out"
      ],
      "metadata": {
        "id": "_SpTJPNZoqxX"
      },
      "execution_count": 18,
      "outputs": []
    },
    {
      "cell_type": "code",
      "source": [
        "input_size = len(word_to_idx) + 1  # Vocabulary size (+1 for padding token)\n",
        "embedding_dim = 128\n",
        "hidden_size = 128\n",
        "num_layers = 2\n",
        "output_size = 1\n",
        "\n",
        "# Initialize model, loss function, and optimizer\n",
        "model = LSTMModel(input_size, embedding_dim, hidden_size, num_layers, output_size).cuda()\n",
        "criterion = nn.BCELoss()\n",
        "optimizer = optim.Adam(model.parameters(), lr=0.001)"
      ],
      "metadata": {
        "id": "GbH31azpVlDr"
      },
      "execution_count": 19,
      "outputs": []
    },
    {
      "cell_type": "code",
      "source": [
        "num_epochs = 5\n",
        "for epoch in range(num_epochs):\n",
        "    model.train()\n",
        "    running_loss = 0.0\n",
        "    for inputs, labels in train_loader:\n",
        "        inputs, labels = inputs.cuda(), labels.cuda()\n",
        "        optimizer.zero_grad()\n",
        "        outputs = model(inputs)\n",
        "        loss = criterion(outputs.squeeze(), labels)\n",
        "        loss.backward()\n",
        "        optimizer.step()\n",
        "        running_loss += loss.item()\n",
        "    print(f'Epoch [{epoch + 1}/{num_epochs}], Loss: {running_loss / len(train_loader):.4f}')\n"
      ],
      "metadata": {
        "colab": {
          "base_uri": "https://localhost:8080/"
        },
        "id": "bdtCOo1HpQAE",
        "outputId": "564ec18f-e9b7-4a6a-ae9d-b6899e88b118"
      },
      "execution_count": 20,
      "outputs": [
        {
          "output_type": "stream",
          "name": "stdout",
          "text": [
            "Epoch [1/5], Loss: 0.6928\n",
            "Epoch [2/5], Loss: 0.6908\n",
            "Epoch [3/5], Loss: 0.6689\n",
            "Epoch [4/5], Loss: 0.4735\n",
            "Epoch [5/5], Loss: 0.3283\n"
          ]
        }
      ]
    },
    {
      "cell_type": "code",
      "source": [
        "model.eval()\n",
        "correct = 0\n",
        "total = 0\n",
        "with torch.no_grad():\n",
        "    for inputs, labels in test_loader:\n",
        "        inputs, labels = inputs.cuda(), labels.cuda()\n",
        "        outputs = model(inputs)\n",
        "        predicted = (outputs.squeeze() > 0.5).float()  # Convert probabilities to binary predictions\n",
        "        total += labels.size(0)\n",
        "        correct += (predicted == labels.squeeze()).sum().item()\n",
        "\n",
        "accuracy = 100 * correct / total\n",
        "print(f'Test Accuracy: {accuracy:.2f}%')"
      ],
      "metadata": {
        "id": "LoRm0ytyp00D",
        "colab": {
          "base_uri": "https://localhost:8080/"
        },
        "outputId": "6eb1cd39-d840-4c66-8583-8d105a894128"
      },
      "execution_count": 21,
      "outputs": [
        {
          "output_type": "stream",
          "name": "stdout",
          "text": [
            "Test Accuracy: 83.07%\n"
          ]
        }
      ]
    },
    {
      "cell_type": "code",
      "source": [],
      "metadata": {
        "id": "jLCuRUQTXAZh"
      },
      "execution_count": 21,
      "outputs": []
    }
  ],
  "metadata": {
    "accelerator": "GPU",
    "colab": {
      "gpuType": "T4",
      "provenance": []
    },
    "kernelspec": {
      "display_name": "Python 3",
      "name": "python3"
    },
    "language_info": {
      "name": "python"
    }
  },
  "nbformat": 4,
  "nbformat_minor": 0
}